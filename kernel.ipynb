{
  "cells": [
    {
      "metadata": {
        "_uuid": "8f2839f25d086af736a60e9eeb907d3b93b6e0e5",
        "_cell_guid": "b1076dfc-b9ad-4769-8c92-a6c4dae69d19",
        "trusted": true
      },
      "cell_type": "code",
      "source": "# This Python 3 environment comes with many helpful analytics libraries installed\n# It is defined by the kaggle/python docker image: https://github.com/kaggle/docker-python\n# For example, here's several helpful packages to load in \n\nimport numpy as np # linear algebra\nimport pandas as pd # data processing, CSV file I/O (e.g. pd.read_csv)\n\n# Input data files are available in the \"../input/\" directory.\n# For example, running this (by clicking run or pressing Shift+Enter) will list the files in the input directory\n\nimport os\nprint(os.listdir(\"../input\"))\n\n# Any results you write to the current directory are saved as output.",
      "execution_count": null,
      "outputs": []
    },
    {
      "metadata": {
        "_cell_guid": "79c7e3d0-c299-4dcb-8224-4455121ee9b0",
        "_uuid": "d629ff2d2480ee46fbb7e2d37f6b5fab8052498a",
        "trusted": true
      },
      "cell_type": "code",
      "source": "# Importing the dataset\ndataset = pd.read_csv('../input/3.csv')\nX = dataset.iloc[:, 3:13].values\ny = dataset.iloc[:, 13].values",
      "execution_count": null,
      "outputs": []
    },
    {
      "metadata": {
        "trusted": true,
        "_uuid": "d6066127d7dcd4ccbb7d09aa47033ff3f0d5c5b7"
      },
      "cell_type": "code",
      "source": "dataset.head()",
      "execution_count": null,
      "outputs": []
    },
    {
      "metadata": {
        "trusted": true,
        "_uuid": "a7705030f03c7c78fd2ad8389f762dbcf185f4db"
      },
      "cell_type": "code",
      "source": "dataset.info()",
      "execution_count": null,
      "outputs": []
    },
    {
      "metadata": {
        "trusted": true,
        "_uuid": "a5389eedd6b0f19cc6bd62352ae5bfc220a624dd"
      },
      "cell_type": "code",
      "source": "X[:10]",
      "execution_count": null,
      "outputs": []
    },
    {
      "metadata": {
        "trusted": true,
        "_uuid": "d324fb823312633410608f297b14e265b9a490ff"
      },
      "cell_type": "code",
      "source": "dic = { \"CreditScore\" : [600, 600, 600], \"Geography\" : [\"France\", \"Spain\", \"Germany\"], \"Gender\"  : [\"Male\", \"Male\", \"Male\"], \"Age\" : [40, 40, 40], \"Tenure\" : [3, 3, 3], \"Balance\" : [60000, 60000, 60000], \n        \"NumOfProducts\" : [2, 2, 2], \"HasCrCard\" : [1, 1, 1], \"IsActiveMember\" : [1, 1, 1], \"EstimatedSalary\" : [50000, 50000, 50000]}\nhomework = pd.DataFrame(dic)\nprint(homework)",
      "execution_count": null,
      "outputs": []
    },
    {
      "metadata": {
        "trusted": true,
        "_uuid": "672d06468055096fc069f730f0ca3d8c1f2dcc8a"
      },
      "cell_type": "code",
      "source": "X_hw = homework.values\nX_hw",
      "execution_count": null,
      "outputs": []
    },
    {
      "metadata": {
        "trusted": true,
        "_uuid": "2c77b7080578bdc0e8176ddb714bca2c0a73e0cb"
      },
      "cell_type": "code",
      "source": "# Encoding categorical data\nfrom sklearn.preprocessing import LabelEncoder, OneHotEncoder\nlabelencoder_X_1 = LabelEncoder()\nX[:, 1] = labelencoder_X_1.fit_transform(X[:, 1])\nlabelencoder_X_2 = LabelEncoder()\nX[:, 2] = labelencoder_X_2.fit_transform(X[:, 2])\nonehotencoder = OneHotEncoder(categorical_features = [1])\nX = onehotencoder.fit_transform(X).toarray()\nX = X[:, 1:]\nX[:10]",
      "execution_count": null,
      "outputs": []
    },
    {
      "metadata": {
        "trusted": true,
        "_uuid": "b1f8ea4b3b5673a589ec3e8664d308cf2a002cfa"
      },
      "cell_type": "code",
      "source": "labelencoder_X_hw = LabelEncoder()\nX_hw[:, 1] = labelencoder_X_hw.fit_transform(X_hw[:, 1])\nlabelencoder_X_hw2 = LabelEncoder()\nX_hw[:, 2] = labelencoder_X_hw2.fit_transform(X_hw[:, 2])\nonehotencoder = OneHotEncoder(categorical_features = [1])\nX_hw = onehotencoder.fit_transform(X_hw).toarray()\nX_hw = X_hw[:, 1:]\nX_hw ",
      "execution_count": null,
      "outputs": []
    },
    {
      "metadata": {
        "trusted": true,
        "_uuid": "47979d0160b73722b706b12ec6a420be6a9856db"
      },
      "cell_type": "code",
      "source": "# Splitting the dataset into the Training set and Test set\nfrom sklearn.model_selection import train_test_split\nX_train, X_test, y_train, y_test = train_test_split(X, y, test_size = 0.2, random_state = 0)",
      "execution_count": null,
      "outputs": []
    },
    {
      "metadata": {
        "trusted": true,
        "_uuid": "f2be93a524da00bcc34e5cb916b48752ce3b5b87"
      },
      "cell_type": "code",
      "source": "X_train[:10]",
      "execution_count": null,
      "outputs": []
    },
    {
      "metadata": {
        "trusted": true,
        "_uuid": "80e7ed33900639b57d3b24ce4f4ecc6f70d3744f"
      },
      "cell_type": "code",
      "source": "# Feature Scaling\nfrom sklearn.preprocessing import StandardScaler\nsc = StandardScaler()\nX_train = sc.fit_transform(X_train)\nX_test = sc.transform(X_test)",
      "execution_count": null,
      "outputs": []
    },
    {
      "metadata": {
        "trusted": true,
        "_uuid": "a35adbc65efff16df32d3259820546f0b2146399"
      },
      "cell_type": "code",
      "source": "# Part 2 - Now let's make the ANN!\n# Importing the Keras libraries and packages\nimport keras\nfrom keras.models import Sequential\nfrom keras.layers import Dense",
      "execution_count": null,
      "outputs": []
    },
    {
      "metadata": {
        "trusted": true,
        "_uuid": "1e627c22ac32a14f4f03ed28ac9662c17f645937"
      },
      "cell_type": "code",
      "source": "# Initialising the ANN\nclassifier = Sequential()",
      "execution_count": null,
      "outputs": []
    },
    {
      "metadata": {
        "trusted": true,
        "_uuid": "0b1342add88a0051bcec3159b45551265ca0e37f"
      },
      "cell_type": "code",
      "source": "#output_dim should be generally avg of input and output \nclassifier.add(Dense(output_dim =  6, init = \"uniform\", activation = \"relu\", input_dim = 11))",
      "execution_count": null,
      "outputs": []
    },
    {
      "metadata": {
        "trusted": true,
        "_uuid": "70e7376b26d6e5caef986a1c5cf42987ddb82592"
      },
      "cell_type": "code",
      "source": "#creating the second hiddden layer\nclassifier.add(Dense(output_dim =  6, init = \"uniform\", activation = \"relu\"))",
      "execution_count": null,
      "outputs": []
    },
    {
      "metadata": {
        "trusted": true,
        "_uuid": "03d3a1911ffffd86f3f2b293cb4c91bd40d39c68"
      },
      "cell_type": "code",
      "source": "#creating output layer\nclassifier.add(Dense(output_dim =  1, init = \"uniform\", activation = \"sigmoid\"))",
      "execution_count": null,
      "outputs": []
    },
    {
      "metadata": {
        "trusted": true,
        "_uuid": "ea239c1efcc436410f03e659021bb136fe8bda01"
      },
      "cell_type": "code",
      "source": "#compiling the ann, optimer = adam is most popular schotistic gradient descent algorith\nclassifier.compile(optimizer = \"adam\", loss = \"binary_crossentropy\", metrics = [\"accuracy\"])",
      "execution_count": null,
      "outputs": []
    },
    {
      "metadata": {
        "trusted": true,
        "_uuid": "0f01a2e51fbd1a66844c223ee1ca7d5f2c5c6842"
      },
      "cell_type": "code",
      "source": "#fitting the ann to the training set\nclassifier.fit(X_train, y_train, batch_size = 10, nb_epoch = 100)",
      "execution_count": null,
      "outputs": []
    },
    {
      "metadata": {
        "trusted": true,
        "_uuid": "e752b917767a39f0aa924594f132607bbece6eff"
      },
      "cell_type": "code",
      "source": "#predicting the data\ny_pred_prob = classifier.predict(X_test)",
      "execution_count": null,
      "outputs": []
    },
    {
      "metadata": {
        "trusted": true,
        "_uuid": "665baa3d9388a341f923f6d079df68a0b04973ad"
      },
      "cell_type": "code",
      "source": "y_pred_prob[:10]",
      "execution_count": null,
      "outputs": []
    },
    {
      "metadata": {
        "trusted": true,
        "_uuid": "893ca3facae539a87a6e8ba6161535d1f8632ea1"
      },
      "cell_type": "code",
      "source": "y_pred = (y_pred_prob > 0.5)\n",
      "execution_count": null,
      "outputs": []
    },
    {
      "metadata": {
        "trusted": true,
        "_uuid": "1361b5e106af069dd6d870c1f307ad8bbdc29c14"
      },
      "cell_type": "code",
      "source": "y_pred[:10]",
      "execution_count": null,
      "outputs": []
    },
    {
      "metadata": {
        "trusted": true,
        "_uuid": "6776aabc27d14f16c167d7cef4c47b25fbc39313"
      },
      "cell_type": "code",
      "source": "# Making the Confusion Matrix\nfrom sklearn.metrics import confusion_matrix\ncm = confusion_matrix(y_test, y_pred)",
      "execution_count": null,
      "outputs": []
    },
    {
      "metadata": {
        "trusted": true,
        "_uuid": "08bed3b2025152d62700b7e7e6cefdb9459a2684"
      },
      "cell_type": "code",
      "source": "cm",
      "execution_count": null,
      "outputs": []
    },
    {
      "metadata": {
        "trusted": true,
        "_uuid": "435cb87681dbbd5597c2e3b1fd585c7dec2e8898"
      },
      "cell_type": "code",
      "source": "from sklearn.metrics import classification_report\ntarget =[\"negative add\", \"positive add\"]\nprint(classification_report(y_test, y_pred, target_names=target))",
      "execution_count": null,
      "outputs": []
    },
    {
      "metadata": {
        "trusted": true,
        "_uuid": "b10e5a170d53021f43fa47a960cf8f303f21d06d"
      },
      "cell_type": "code",
      "source": "accuracy = (1547+138)/2000",
      "execution_count": null,
      "outputs": []
    },
    {
      "metadata": {
        "trusted": true,
        "_uuid": "62ac186b936c960a25de71550597472096cc0505"
      },
      "cell_type": "code",
      "source": "accuracy",
      "execution_count": null,
      "outputs": []
    },
    {
      "metadata": {
        "trusted": true,
        "_uuid": "df3e74377c6f71db619133ec1662d50b5ac51c89"
      },
      "cell_type": "code",
      "source": "y_hw_predict_prob = classifier.predict(X_hw)\ny_hw_predict_prob",
      "execution_count": null,
      "outputs": []
    },
    {
      "metadata": {
        "trusted": true,
        "_uuid": "7562d4163dff7d76056684943424009efaae7224"
      },
      "cell_type": "code",
      "source": "y_pred_hw = (y_hw_predict_prob > 0.5)\ny_pred_hw",
      "execution_count": null,
      "outputs": []
    },
    {
      "metadata": {
        "trusted": true,
        "_uuid": "605accba74ea95c9e6cc39f4f80b80701fba7ff9"
      },
      "cell_type": "code",
      "source": "#evaluating, improving and tunning the ANN\n#evaluating the ANN\nfrom keras.wrappers.scikit_learn import KerasClassifier",
      "execution_count": null,
      "outputs": []
    },
    {
      "metadata": {
        "trusted": true,
        "_uuid": "25f04e16f0e54bcb0fa924809af276af8b7cba31"
      },
      "cell_type": "code",
      "source": "from sklearn.model_selection import cross_val_score\ndef build_classifier():\n    # Initialising the ANN\n    classifier = Sequential()\n    classifier.add(Dense(output_dim =  6, init = \"uniform\", activation = \"relu\", input_dim = 11))\n    classifier.add(Dense(output_dim =  6, init = \"uniform\", activation = \"relu\"))\n    classifier.add(Dense(output_dim =  1, init = \"uniform\", activation = \"sigmoid\"))\n    classifier.compile(optimizer = \"adam\", loss = \"binary_crossentropy\", metrics = [\"accuracy\"])\n    return classifier",
      "execution_count": null,
      "outputs": []
    },
    {
      "metadata": {
        "trusted": true,
        "_uuid": "87e48f18065b1ef8c367eea10a83e36ce367e508"
      },
      "cell_type": "code",
      "source": "classifier = KerasClassifier(build_fn= build_classifier, batch_size = 10, nb_epoch = 100 )\naccuracies = cross_val_score(estimator = classifier, X = X_train)",
      "execution_count": null,
      "outputs": []
    }
  ],
  "metadata": {
    "kernelspec": {
      "display_name": "Python 3",
      "language": "python",
      "name": "python3"
    },
    "language_info": {
      "name": "python",
      "version": "3.6.6",
      "mimetype": "text/x-python",
      "codemirror_mode": {
        "name": "ipython",
        "version": 3
      },
      "pygments_lexer": "ipython3",
      "nbconvert_exporter": "python",
      "file_extension": ".py"
    }
  },
  "nbformat": 4,
  "nbformat_minor": 1
}